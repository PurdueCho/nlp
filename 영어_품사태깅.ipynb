{
  "nbformat": 4,
  "nbformat_minor": 0,
  "metadata": {
    "colab": {
      "name": "품사태깅.ipynb",
      "provenance": [],
      "collapsed_sections": [],
      "machine_shape": "hm"
    },
    "kernelspec": {
      "name": "python3",
      "display_name": "Python 3"
    },
    "language_info": {
      "name": "python"
    },
    "accelerator": "GPU"
  },
  "cells": [
    {
      "cell_type": "code",
      "metadata": {
        "id": "SMm14hMM1XBP",
        "colab": {
          "base_uri": "https://localhost:8080/"
        },
        "outputId": "cdf4bab1-3ddf-4287-b1fc-dad7d0510ccf"
      },
      "source": [
        "import os\n",
        "import time\n",
        "import tensorflow as tf\n",
        "from tensorflow.keras.layers import Embedding\n",
        "from tensorflow.keras import layers\n",
        "from tensorflow import keras\n",
        "import numpy as np\n",
        "\n",
        "from google.colab import drive\n",
        "drive.mount('/content/drive')\n",
        "\n"
      ],
      "execution_count": 6,
      "outputs": [
        {
          "output_type": "stream",
          "text": [
            "Drive already mounted at /content/drive; to attempt to forcibly remount, call drive.mount(\"/content/drive\", force_remount=True).\n"
          ],
          "name": "stdout"
        }
      ]
    },
    {
      "cell_type": "code",
      "metadata": {
        "id": "wZTfyUM5ONWD"
      },
      "source": [
        "# set up\n",
        "d_embed = 32\n",
        "window_size = 5\n",
        "Threshold_freq = 1"
      ],
      "execution_count": 16,
      "outputs": []
    },
    {
      "cell_type": "code",
      "metadata": {
        "id": "S5dCfmF_2Uea"
      },
      "source": [
        "fp = open(\"file_names_all.txt\", \"w\", encoding=\"utf-8\")\n",
        "cur_dir_path = './drive/MyDrive/WSJ'\n",
        "dir_list = os.listdir(cur_dir_path)\n",
        "list_all_file_paths = []\n",
        "for a_dir in sorted(dir_list):\n",
        "    path = os.path.join(cur_dir_path, a_dir)\n",
        "    subdir_list = os.listdir(path)\n",
        "    for a_file in sorted(subdir_list):\n",
        "        if not(a_file[-1]=='S' and a_file[-2]=='O'):\n",
        "            continue\n",
        "        path2 = os.path.join(path, a_file)\n",
        "        fp.write(path2+'\\n')\n",
        "        list_all_file_paths.append(path2)\n",
        "fp.close()"
      ],
      "execution_count": 7,
      "outputs": []
    },
    {
      "cell_type": "code",
      "metadata": {
        "id": "9HjKcGup6YmC"
      },
      "source": [
        "# divide the whole corpus to 3 parts: training, validation, test\n",
        "fp_tr = open(\"./file_names_train.txt\", \"w\", encoding=\"utf-8\")\n",
        "fp_va = open(\"./file_names_validation.txt\", \"w\", encoding=\"utf-8\")\n",
        "fp_te = open(\"./file_names_test.txt\", \"w\", encoding=\"utf-8\")\n",
        "\n",
        "total_num_files = len(list_all_file_paths)\n",
        "num_files_train = int(total_num_files * 0.8)\n",
        "num_files_validation = int(total_num_files * 0.1)\n",
        "num_files_test = total_num_files - (num_files_train + num_files_validation)\n",
        "\n",
        "for i in range(num_files_train):\n",
        "    fp_tr.write(list_all_file_paths[i] + '\\n')\n",
        "fp_tr.close()\n",
        "\n",
        "for i in range(num_files_validation):\n",
        "    fp_va.write(list_all_file_paths[num_files_train + i] + '\\n')\n",
        "fp_va.close()\n",
        "\n",
        "for i in range(num_files_test):\n",
        "    fp_te.write(list_all_file_paths[num_files_train + num_files_validation + i] + '\\n')\n",
        "fp_te.close()"
      ],
      "execution_count": 10,
      "outputs": []
    },
    {
      "cell_type": "code",
      "metadata": {
        "id": "bDYqhFLGFu2B"
      },
      "source": [
        "# 입력: 한 tagged 파일의 경로\n",
        "# 출력: 입력화일에 들어 있는 모든 문장의 줄을 읽어서 한 문장 내의 단어/품사 쌍을 모아 한 서브리스트에 넣고, 모든 문장들에 대한 서브리스트들을 한 리스트에 넣어서 이를 출력한다.\n",
        "# 한 서브리스트는 한 문장마다 준비되며 각 원소는 문장 내의 단어/품사 쌍이다.\n",
        "def read_a_file_and_form_sentences (file_path):\n",
        "    fp = open(file_path, \"r\", encoding=\"utf-8\")\n",
        "    sentences_of_file = [] # this will have lists, where each list will have word/pos pairs of a sentence.\n",
        "\n",
        "    while True: # this is for a sentence\n",
        "        sentence = []\n",
        "        while True:\n",
        "            line = fp.readline()\n",
        "            leng = len(line)\n",
        "            if leng == 0:\n",
        "                # EOF, Finish this file.\n",
        "                return sentences_of_file\n",
        "            elif leng == 1 or (line[0] == '=' and line[1] == '=' and line[2] == '='):\n",
        "                continue\n",
        "            else:\n",
        "                # first line of a sentence has come. Store its elements.\n",
        "                line = line[:-1]\n",
        "                line_splited = line.split()\n",
        "                for ele in line_splited:\n",
        "                    if ele != '[' and ele != ']':\n",
        "                        sentence.append(ele)\n",
        "                break\n",
        "        \n",
        "        while True:\n",
        "            line = fp.readline()\n",
        "            leng = len(line)\n",
        "            if leng == 0: # EOF\n",
        "                break\n",
        "            elif leng == 1 or (leng >= 4 and (line[0] == '=' and line[1] == '=' and line[2] == '=')):\n",
        "                # the first garbage line after the last line of a sentence has come.\n",
        "                break\n",
        "            else:\n",
        "                # next line of a sentence has come\n",
        "                line = line[:-1]\n",
        "                line_splited = line.split()\n",
        "\n",
        "                for ele in line_splited:\n",
        "                    if not (ele == '[' or ele == ']'):\n",
        "                        sentence.append(ele)\n",
        "            \n",
        "        sentences_of_file.append(sentence)\n",
        "\n",
        "        if leng == 0: # EOF\n",
        "            break\n",
        "    return sentences_of_file"
      ],
      "execution_count": 13,
      "outputs": []
    },
    {
      "cell_type": "code",
      "metadata": {
        "id": "fpRSwNalBMza"
      },
      "source": [
        "# 한 문장을 한 줄에 가진다. \n",
        "# 문장은 단어/품사 들의 리스트이다. \n",
        "# 이 한 파일에 코퍼스 전체 모든 파일 내의 문장들을 가진다.\n",
        "def build_word_pos_sentences(path_file_names, path_result_file):\n",
        "    fp_n = open(path_file_names, \"r\", encoding=\"utf-8\")\n",
        "    fp_s = open(path_result_file, \"w\", encoding=\"utf-8\")\n",
        "\n",
        "    while True:\n",
        "        filename = fp_n.readline()\n",
        "\n",
        "        if len(filename) == 0:\n",
        "            break # EOF\n",
        "        \n",
        "        filename = filename[:-1]\n",
        "        sentences = read_a_file_and_form_sentences(filename)\n",
        "        fp_s.write('<< ' + filename + ' >>  Num sentences: ' + str(len(sentences)) + '\\n')\n",
        "\n",
        "        # store word/pos in file 'all_word_pos_sentences_????.txt'\n",
        "        for sentence in sentences:\n",
        "            s_line = ''\n",
        "            for w_p in sentence:\n",
        "                s_line = s_line + ' ' + w_p\n",
        "            fp_s.write(s_line+'\\n')\n",
        "    \n",
        "    fp_n.close()\n",
        "    fp_s.close()"
      ],
      "execution_count": 14,
      "outputs": []
    },
    {
      "cell_type": "code",
      "metadata": {
        "id": "M64qeWCYEU0g"
      },
      "source": [
        "build_word_pos_sentences(\"./file_names_all.txt\", \"./all_word_pos_sentences_all.txt\")\n",
        "\n",
        "build_word_pos_sentences(\"./file_names_train.txt\", \"./all_word_pos_sentences_train.txt\")\n",
        "build_word_pos_sentences(\"./file_names_validation.txt\", \"./all_word_pos_sentences_validation.txt\")\n",
        "build_word_pos_sentences(\"./file_names_test.txt\", \"./all_word_pos_sentences_test.txt\")"
      ],
      "execution_count": 15,
      "outputs": []
    },
    {
      "cell_type": "code",
      "metadata": {
        "id": "HgcXjTGWITKg"
      },
      "source": [
        "# 사전을 만드는데 사용될 코퍼스에 등장하는 단어들과 그 출현 횟수를 가지는 사전(Vocab_temporary)을 생성\n",
        "def build_vocabulary_temp(corpus_path):\n",
        "    fp = open(corpus_path, \"r\", encoding=\"utf-8\")\n",
        "    for line in fp.readlines():\n",
        "        sentence = line.split()\n",
        "        if sentence[0] == '<<':\n",
        "            continue\n",
        "        for word_pos_pair in sentence:\n",
        "            w_p = word_pos_pair.split('/')\n",
        "            word = w_p[0]\n",
        "            pos = w_p[1]\n",
        "            if word in Vocab_temporary:\n",
        "                Vocab_temporary[word] += 1\n",
        "            else:\n",
        "                Vocab_temporary[word] = 1\n",
        "    fp.close()\n",
        "    return"
      ],
      "execution_count": 31,
      "outputs": []
    },
    {
      "cell_type": "code",
      "metadata": {
        "id": "QKq_1d2XT31_"
      },
      "source": [
        "# Create Vocab of our system by taking words (in train part of the tagged corpus)\n",
        "# of freq greater or equal to a given threshold\n",
        "\n",
        "Vocab_temporary = {}\n",
        "build_vocabulary_temp(\"./all_word_pos_sentences_all.txt\")\n",
        "sorted_Vocab = sorted(Vocab_temporary.items(), key = lambda kv: kv[1], reverse = True)\n",
        "Total_n_words = len(sorted_Vocab)\n",
        "\n",
        "Vocab = {}          # This will be our final vocab.\n",
        "n_reversed = 2      # currently, [PAD] of index 0 , [UNK] of index 1\n",
        "for i in range(Total_n_words):\n",
        "    word = sorted_Vocab[i][0]\n",
        "    freq = sorted_Vocab[i][1]\n",
        "\n",
        "    if freq >= Threshold_freq:\n",
        "        Vocab[word] = i + n_reversed    # give index to word\n",
        "    else:\n",
        "        # all the remaining will be ones of freq less than threshold freq.\n",
        "        break\n",
        "\n",
        "Vocab['[PAD]'] = 0  # index of pad word\n",
        "Vocab['[UNK]'] = 1  # index of unknown word\n",
        "Vocab_size = len(Vocab)     # include [PAD], [UNK]\n",
        "\n",
        "# Create our dictionary for part of speech, dic_POS, from original paper of Penn-tree bank\n",
        "dic_POS = {}\n",
        "all_pos_list = ['CC', 'CD', 'DT', 'EX', 'FW', 'IN', 'JJ', 'JJR', 'JJS', 'LS',\n",
        "                'MD', 'NN', 'NNS', 'NNP', 'NNPS', 'PDT', 'POS', 'PRP','PRP$', 'RB',\n",
        "                'RBR', 'RBS', 'RP', 'SYM', 'TO', 'UH', 'VB', 'VBD', 'VBG', 'VBN',\n",
        "                'VBP', 'VBZ', 'WDT', 'WP', 'WP$', 'WRB', '#', '$', '.', ',',  \n",
        "                ':', '(', ')', '\\'\\'', '\\'', '``' ]\n",
        "\n",
        "# give a unique index to each POS\n",
        "for i in range(len(all_pos_list)):\n",
        "    dic_POS[all_pos_list[i]] = i"
      ],
      "execution_count": 37,
      "outputs": []
    },
    {
      "cell_type": "code",
      "metadata": {
        "id": "qZSzfIUFZODZ"
      },
      "source": [
        "# word_pos 파일로부터 index 파일을 생성\n",
        "def build_index_sentences(path_word_pos_sentence_file, path_index_sentence_file):\n",
        "    fp = open(path_word_pos_sentence_file, \"r\", encoding=\"utf-8\")\n",
        "    fp_w = open(path_index_sentence_file, \"w\", encoding=\"utf-8\")\n",
        "\n",
        "    for line in fp.readlines():\n",
        "        sentence = line.split()\n",
        "        if sentence[0] == '<<':\n",
        "            continue\n",
        "        \n",
        "        line_widx = ''      # line for word indices\n",
        "        line_pidx = ''      # line for pos indices\n",
        "\n",
        "        for word_pos_pair in sentence:\n",
        "            w_p = word_pos_pair.split('/')\n",
        "            nseg = len(w_p)\n",
        "            if nseg > 2:\n",
        "                word = ''\n",
        "                for i in range(nseg-1):\n",
        "                    word = word + w_p[i] + '/'\n",
        "                word = word[:-1]        # remove the last slash\n",
        "            else:\n",
        "                word = w_p[0]\n",
        "            \n",
        "            pos = w_p[-1]       # the last segment\n",
        "            if not (word in Vocab):\n",
        "                widx = 1        # give index of [UNK] since it is missing in Vocab.\n",
        "            else:\n",
        "                widx = Vocab[word]\n",
        "            \n",
        "            if not (pos in dic_POS):\n",
        "                pos_list = pos.split('|')\n",
        "                pos = pos_list[-1]\n",
        "                if not (pos in dic_POS):\n",
        "                    print(\"exception occurs at dic_POS look_up. w_p=\", w_p, \" pos=\", pos)\n",
        "                    time.sleep(100)\n",
        "                else:\n",
        "                    pidx = dic_POS[pos]\n",
        "            else:\n",
        "                pidx = dic_POS[pos]\n",
        "            \n",
        "            if len(line_widx) == 0:\n",
        "                line_widx = line_widx + str(widx)\n",
        "            else:\n",
        "                line_widx = line_widx + '\\t' + str(widx)\n",
        "            \n",
        "            if len(line_pidx) == 0:\n",
        "                line_pidx = line_pidx + str(pidx)\n",
        "            else:\n",
        "                line_pidx = line_pidx + '\\t' + str(pidx)\n",
        "\n",
        "        fp_w.write(line_widx + '\\n')\n",
        "        fp_w.write(line_pidx + '\\n')\n",
        "        fp_w.write('\\n')                # an empty line after each sentence\n",
        "    fp_w.close()\n",
        "    fp.close()"
      ],
      "execution_count": 41,
      "outputs": []
    },
    {
      "cell_type": "code",
      "metadata": {
        "id": "r-7MdHIaZsc3"
      },
      "source": [
        "build_index_sentences(\"./all_word_pos_sentences_train.txt\", \"./all_index_sentences_train.txt\")\n",
        "build_index_sentences(\"./all_word_pos_sentences_validation.txt\", \"./all_index_sentences_validation.txt\")\n",
        "build_index_sentences(\"./all_word_pos_sentences_test.txt\", \"./all_index_sentences_test.txt\")\n"
      ],
      "execution_count": 42,
      "outputs": []
    },
    {
      "cell_type": "code",
      "metadata": {
        "id": "43_KZNChdT6K"
      },
      "source": [
        "# index 파일에서 train examples 파일 만들기.\n",
        "def build_examples(path_index_file, path_examples_file, window_size):\n",
        "    fp = open(path_index_file, \"r\", encoding=\"utf-8\")\n",
        "    fp_w = open(path_examples_file, \"w\", encoding=\"utf-8\")\n",
        "\n",
        "    fp_w.write(str(window_size) + \" word indices and a pos label.\\n\")       # insert first line as comment\n",
        "    \n",
        "    num_pads = window_size // 2\n",
        "    while True:\n",
        "        # read two lines\n",
        "        wline = fp.readline()\n",
        "        if len(wline) == 0:\n",
        "            break   #EOF\n",
        "        pline = fp.readline()\n",
        "        w_index = wline.split()\n",
        "        p_index = pline.split()\n",
        "\n",
        "        # pad (index 0) are placed before the sentence\n",
        "        pad_added_word_index = []\n",
        "        for i in range(num_pads):\n",
        "            pad_added_word_index.append('0')\n",
        "        \n",
        "        for widx in w_index:\n",
        "            pad_added_word_index.append(widx)\n",
        "        \n",
        "        # pads are added after sentence\n",
        "        for i in range(num_pads):\n",
        "            pad_added_word_index.append('0')\n",
        "        \n",
        "        leng_sentence = len(w_index)\n",
        "        for i in range(leng_sentence):\n",
        "            outline = ''\n",
        "            for j in range(window_size):\n",
        "                outline += pad_added_word_index[i+j]\n",
        "                outline += '\\t'\n",
        "            outline += p_index[i] + '\\n'\n",
        "            fp_w.write(outline)\n",
        "        \n",
        "        line = fp.readline()\n",
        "        if len(line) != 1:\n",
        "            print(\"logic error. length 1 line expected in file all_index_sentences.txt\")\n",
        "            time.sleep(100)\n",
        "    \n",
        "    fp.close()\n",
        "    fp_w.close()"
      ],
      "execution_count": 43,
      "outputs": []
    },
    {
      "cell_type": "code",
      "metadata": {
        "id": "eq5kEkFGgr2f"
      },
      "source": [
        "build_examples(\"./all_index_sentences_train.txt\", \"./all_examples_train.txt\", window_size)\n",
        "build_examples(\"./all_index_sentences_validation.txt\", \"./all_examples_validation.txt\", window_size)\n",
        "build_examples(\"./all_index_sentences_test.txt\", \"./all_examples_test.txt\", window_size)"
      ],
      "execution_count": 44,
      "outputs": []
    },
    {
      "cell_type": "code",
      "metadata": {
        "id": "RHWtOyNug7WR"
      },
      "source": [
        "# Read training examples for train and validation from example files.\n",
        "# Lists x_train, y_train: X and d of training examples from training data.\n",
        "# Lists x_validation, y_valdation: the same as the above.\n",
        "\n",
        "def read_examples_from_file(path_examples_file):\n",
        "    fp = open(path_examples_file, \"r\", encoding=\"utf-8\")\n",
        "\n",
        "    X = []\n",
        "    Y = []\n",
        "    for i, line in enumerate(fp.readlines()):\n",
        "        if i == 0:\n",
        "            continue    # ignore the first line wich is a comment\n",
        "        line_split = line.split()\n",
        "        intseq = [int(a) for a in line_split]\n",
        "        an_inputX = intseq[0:window_size]\n",
        "        X.append(an_inputX)     # X (an input word index seq)\n",
        "        Y.append(intseq[-1])     # d (a label not a 1-hot vector)\n",
        "    return X, Y"
      ],
      "execution_count": 69,
      "outputs": []
    },
    {
      "cell_type": "code",
      "metadata": {
        "id": "Kiwgm6G8i7z6"
      },
      "source": [
        "x_train, y_train = read_examples_from_file(\"./all_examples_train.txt\")\n",
        "x_train = np.array(x_train)\n",
        "y_train = np.array(y_train)\n",
        "\n",
        "x_validation, y_validation = read_examples_from_file(\"./all_examples_validation.txt\")\n",
        "x_validation = np.array(x_validation)\n",
        "y_validation = np.array(y_validation)\n",
        "\n",
        "x_test, y_test = read_examples_from_file(\"./all_examples_test.txt\")\n",
        "x_test = np.array(x_test)\n",
        "y_test = np.array(y_test)"
      ],
      "execution_count": 70,
      "outputs": []
    },
    {
      "cell_type": "code",
      "metadata": {
        "colab": {
          "base_uri": "https://localhost:8080/"
        },
        "id": "jEaUuS8Wj255",
        "outputId": "c9cbea0f-5ecc-4f17-9d38-d4832ae63815"
      },
      "source": [
        "y_train"
      ],
      "execution_count": 71,
      "outputs": [
        {
          "output_type": "execute_result",
          "data": {
            "text/plain": [
              "array([13, 13, 39, ..., 28, 11, 38])"
            ]
          },
          "metadata": {
            "tags": []
          },
          "execution_count": 71
        }
      ]
    },
    {
      "cell_type": "code",
      "metadata": {
        "id": "mgHcEsevla-6"
      },
      "source": [
        "# Model design\n",
        "\n",
        "embedding_layer = Embedding(Vocab_size, d_embed, embeddings_initializer='random_normal', input_length=window_size, trainable=True)\n",
        "\n",
        "int_seq = keras.Input(shape=(window_size), dtype=\"int64\")\n",
        "emb_seq = embedding_layer(int_seq)\n",
        "x = layers.Flatten()(emb_seq)\n",
        "x = layers.Dense(640, activation=\"relu\")(x)\n",
        "x = layers.Dense(640, activation=\"relu\")(x)\n",
        "preds = layers.Dense(46, activation=\"softmax\")(x)\n",
        "\n",
        "model = keras.Model(int_seq, preds)"
      ],
      "execution_count": 72,
      "outputs": []
    },
    {
      "cell_type": "code",
      "metadata": {
        "colab": {
          "base_uri": "https://localhost:8080/"
        },
        "id": "YGr1TSHAmqET",
        "outputId": "e8f9c7a6-c4cd-4963-a911-ff65e83612c3"
      },
      "source": [
        "# loss sparse_categorical_crossentropy: target is given as a label index than one-hot vector.\n",
        "LEARNING_RATE = 0.3e-3\n",
        "DECAY = 0.00005\n",
        "EPOCHS = 5\n",
        "optimizer = tf.keras.optimizers.Adam(learning_rate=LEARNING_RATE, decay = DECAY)\n",
        "model.compile(optimizer=optimizer, loss=\"sparse_categorical_crossentropy\", metrics=[\"acc\"])\n",
        "\n",
        "hist = model.fit(x_train, y_train, batch_size=64, epochs=EPOCHS, validation_data=(x_validation, y_validation), shuffle=True)\n",
        "# print(hist.history.keys())\n",
        "# print('\\nAccuracy: {:.4f}'.format(model.evaluate(X_validation, Y_validation)[1]))"
      ],
      "execution_count": null,
      "outputs": [
        {
          "output_type": "stream",
          "text": [
            "Epoch 1/5\n",
            "15850/15850 [==============================] - 165s 10ms/step - loss: 0.0583 - acc: 0.9805 - val_loss: 0.1452 - val_acc: 0.9562\n",
            "Epoch 2/5\n",
            " 3101/15850 [====>.........................] - ETA: 2:11 - loss: 0.0404 - acc: 0.9862"
          ],
          "name": "stdout"
        }
      ]
    },
    {
      "cell_type": "code",
      "metadata": {
        "colab": {
          "base_uri": "https://localhost:8080/"
        },
        "id": "9Lrlilfqncio",
        "outputId": "fe9ce092-46c1-4fe3-aad0-bdb44a474e4f"
      },
      "source": [
        "####### TEST ##########\n",
        "\n",
        "pred = model.predict(x=x_test, verbose=1)   # batch 단위로 수행 (default = 32)\n",
        "                                            # batch 별 결과를 모아서 전체 결과를 반환함\n",
        "pred_label = tf.math.argmax(pred, axis=1)\n",
        "\n",
        "leng_test = len(y_test)\n",
        "equality = tf.math.equal(pred_label, y_test)    # boolean arrary\n",
        "compare = np.ones(leng_test, dtype=np.int64)\n",
        "for i in range(leng_test):\n",
        "    if not equality[i]:\n",
        "        compare[i] = 0\n",
        "hit = tf.reduce_sum(compare)\n",
        "acc = hit / leng_test\n",
        "print(\"test accuarcy = \", acc)"
      ],
      "execution_count": 74,
      "outputs": [
        {
          "output_type": "stream",
          "text": [
            "4541/4541 [==============================] - 5s 1ms/step\n",
            "test accuarcy =  tf.Tensor(0.9597654475629396, shape=(), dtype=float64)\n"
          ],
          "name": "stdout"
        }
      ]
    },
    {
      "cell_type": "code",
      "metadata": {
        "colab": {
          "base_uri": "https://localhost:8080/",
          "height": 564
        },
        "id": "a9sf9f7IrWcq",
        "outputId": "c3aa341e-6966-4bde-8aae-052c4881d8f2"
      },
      "source": [
        "from keras.utils import plot_model\n",
        "plot_model(model, to_file='model.png')"
      ],
      "execution_count": 76,
      "outputs": [
        {
          "output_type": "execute_result",
          "data": {
            "image/png": "[encoded data removed]",
            "text/plain": [
              "<IPython.core.display.Image object>"
            ]
          },
          "metadata": {
            "tags": []
          },
          "execution_count": 76
        }
      ]
    },
    {
      "cell_type": "code",
      "metadata": {
        "id": "LTM7_tpjsIOX"
      },
      "source": [
        "import matplotlib.pyplot as plt\n",
        "\n",
        "fig, loss_ax = plt.subplots()\n",
        "acc_ax = loss_ax.twinx()\n",
        "\n",
        "loss_ax.plot(hist.history['loss'], 'y', label='train loss')\n",
        "loss_ax.plot(hist.history['val_loss'], 'r', label='val loss')\n",
        "loss_ax.set_xlabel('epoch')\n",
        "loss_ax.set_ylabel('loss')\n",
        "loss_ax.legend(loc='upper left')\n",
        "\n",
        "acc_ax.plot(hist.history['acc'], 'b', label='train acc')\n",
        "acc_ax.plot(hist.history['val_acc'], 'g', label='val acc')\n",
        "acc_ax.set_ylabel('accuracy')\n",
        "acc_ax.legend(loc='upper left')\n",
        "\n",
        "plt.show()"
      ],
      "execution_count": null,
      "outputs": []
    }
  ]
}